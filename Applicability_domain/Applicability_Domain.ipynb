{
 "cells": [
  {
   "cell_type": "markdown",
   "metadata": {},
   "source": [
    "# Applicability Domain Workflow"
   ]
  },
  {
   "cell_type": "markdown",
   "metadata": {},
   "source": [
    "### Introduction\n",
    "\n",
    "Workflow for estimation of Applicability Domain (AD) based on Euclidean distances. \n",
    "\n",
    "The AD of a QSAR model must be defined to flag compounds in the test set for which predictions may be unreliable. In this workflow, similarity measurements are used to define the AD of the model based on the Euclidean distances among all the compounds of the training set. Then, we estimate if compounds of the test are inside the AD of the training set. The distance of a test compound to its nearest neighbor in the training set is compared to the calculated AD Threshold (ADT) of the training set. If the similarity is beyond this threshold, the prediction is considered unreliable.\n",
    "\n",
    "ADT is calculated as follows: \n",
    "\n",
    "ADT = D + Zσ \n",
    "\n",
    "where where Z is a similarity threshold parameter defined by the user (default is 0.5), and D and σ are the average and standard deviation, respectively, of all Euclidian distances in the multidimensional descriptor space between each compound and its nearest neighbors for all compounds in the training set.\n",
    "\n",
    "This method has been defined by A. Golbraikh, M. Shen, Z. Xiao, Y.-D. Xiao, K.-H. Lee, A. Tropsha. J. Comput. Aided. Mol. Des. 2003, 17 (2–4), 241–253."
   ]
  },
  {
   "cell_type": "code",
   "execution_count": 1,
   "metadata": {},
   "outputs": [],
   "source": [
    "import pandas as pd\n",
    "import numpy as np\n",
    "from rdkit.Chem import PandasTools\n",
    "from rdkit.Chem.AllChem import GetMorganFingerprintAsBitVect\n",
    "from sklearn.model_selection import train_test_split\n",
    "from scipy.spatial import distance_matrix"
   ]
  },
  {
   "cell_type": "markdown",
   "metadata": {},
   "source": [
    "### ADT function"
   ]
  },
  {
   "cell_type": "code",
   "execution_count": 2,
   "metadata": {},
   "outputs": [],
   "source": [
    "def calc_training_dist_matrix(training_descriptors):\n",
    "    \"\"\"Calculate the distance of every compound in the training set\n",
    "    from every other compound in the training set.\"\"\"\n",
    "    return np.sort(distance_matrix(training_descriptors,training_descriptors),axis=1)[:,1:]\n",
    "\n",
    "def calc_d_cutoff(distance_matrix, user_cutoff=0.5):\n",
    "    \"\"\"Calculate the cutoff value defining the applicability domain\n",
    "    for the entire training set.\"\"\"\n",
    "    average_dist = np.mean(distance_matrix, axis=None)\n",
    "    std_dev = np.std(distance_matrix, axis=None)\n",
    "    return (average_dist + user_cutoff * std_dev)\n",
    "\n",
    "def calc_test_distances(testing_descriptors,training_descriptors):\n",
    "    \"\"\"Calculate distance of each compound in the test set\n",
    "    from every compound in the training set\"\"\"\n",
    "    return distance_matrix(testing_descriptors,training_descriptors)\n",
    "\n",
    "def test_AD(test_value,threshold):\n",
    "    \"\"\"Return boolean value for compound; 1 if compound in AD, 0 if not.\"\"\"\n",
    "    if test_value < threshold:\n",
    "        return 1\n",
    "    return 0\n",
    "\n",
    "def percent_reliable(test_df):\n",
    "    \"\"\"Return the portion of compounds in the test set that have been calculated to be reliable.\"\"\"\n",
    "    count_reliable = len(test_df[test_df.Applicability_Domain == \"Reliable\"])\n",
    "    return count_reliable/len(test_df)"
   ]
  },
  {
   "cell_type": "markdown",
   "metadata": {},
   "source": [
    "### Import curated datasets"
   ]
  },
  {
   "cell_type": "code",
   "execution_count": 3,
   "metadata": {},
   "outputs": [
    {
     "ename": "FileNotFoundError",
     "evalue": "[Errno 2] No such file or directory: 'training_set.sdf'",
     "output_type": "error",
     "traceback": [
      "\u001b[1;31m---------------------------------------------------------------------------\u001b[0m",
      "\u001b[1;31mFileNotFoundError\u001b[0m                         Traceback (most recent call last)",
      "Cell \u001b[1;32mIn[3], line 1\u001b[0m\n\u001b[1;32m----> 1\u001b[0m train \u001b[39m=\u001b[39m PandasTools\u001b[39m.\u001b[39;49mLoadSDF(\u001b[39m'\u001b[39;49m\u001b[39mtraining_set.sdf\u001b[39;49m\u001b[39m'\u001b[39;49m)\n\u001b[0;32m      2\u001b[0m train\u001b[39m.\u001b[39mhead(\u001b[39m1\u001b[39m)\n",
      "File \u001b[1;32mc:\\Users\\jadh8858\\AppData\\Local\\miniconda3\\lib\\site-packages\\rdkit\\Chem\\PandasTools.py:248\u001b[0m, in \u001b[0;36mLoadSDF\u001b[1;34m(filename, idName, molColName, includeFingerprints, isomericSmiles, smilesName, embedProps, removeHs, strictParsing)\u001b[0m\n\u001b[0;32m    246\u001b[0m     f \u001b[39m=\u001b[39m gzip\u001b[39m.\u001b[39mopen(filename, \u001b[39m\"\u001b[39m\u001b[39mrb\u001b[39m\u001b[39m\"\u001b[39m)\n\u001b[0;32m    247\u001b[0m   \u001b[39melse\u001b[39;00m:\n\u001b[1;32m--> 248\u001b[0m     f \u001b[39m=\u001b[39m \u001b[39mopen\u001b[39;49m(filename, \u001b[39m'\u001b[39;49m\u001b[39mrb\u001b[39;49m\u001b[39m'\u001b[39;49m)\n\u001b[0;32m    249\u001b[0m   close \u001b[39m=\u001b[39m f\u001b[39m.\u001b[39mclose\n\u001b[0;32m    250\u001b[0m \u001b[39melse\u001b[39;00m:\n",
      "\u001b[1;31mFileNotFoundError\u001b[0m: [Errno 2] No such file or directory: 'training_set.sdf'"
     ]
    }
   ],
   "source": [
    "train = PandasTools.LoadSDF('training_set.sdf')\n",
    "train.head(1)"
   ]
  },
  {
   "cell_type": "code",
   "execution_count": 4,
   "metadata": {},
   "outputs": [
    {
     "data": {
      "text/html": [
       "<table border=\"1\" class=\"dataframe\">\n",
       "  <thead>\n",
       "    <tr style=\"text-align: right;\">\n",
       "      <th></th>\n",
       "      <th>Activity</th>\n",
       "      <th>ID</th>\n",
       "      <th>MOL</th>\n",
       "      <th>Outcome</th>\n",
       "      <th>ROMol</th>\n",
       "      <th>Set</th>\n",
       "    </tr>\n",
       "  </thead>\n",
       "  <tbody>\n",
       "    <tr>\n",
       "      <th>0</th>\n",
       "      <td>-0.16</td>\n",
       "      <td></td>\n",
       "      <td>es1_1</td>\n",
       "      <td>Inactive</td>\n",
       "      <td><img src=\"data:image/png;base64,iVBORw0KGgoAAAANSUhEUgAAAMgAAADICAIAAAAiOjnJAAAABmJLR0QA/wD/AP+gvaeTAAAOh0lEQVR4nO3dW0yT5x/A8V8pBQrI0aroEBEkykHWCeLGDuKKjtjtxpHs5uViMWzZksJuVpNd9MqtWxZ9445kiUmzv9GQJUvK5qniacHISZwirMB0IIyD2KEISFv6/C8e7IBpaaFPnx5+n+zG8vLyy/z6vvVp7SMhhABC3hbGewAUnDAsxASGhZjAsBATGBZiAsNCTGBYiImACevixYtHjhyx2+28B0FukQTEAunMzIxSqbx582Z2dvbhw4d3797NeyK0iMC4Ykml0kOHDmVnZ3d0dOzZs6e0tLSjo4P3UMglEjisVqsoivHx8QAgk8k0Gs3Y2BjvodDTBVJY1OjoqEajkUqlAJCcnCyKot1u5z0UWijwwqJaW1tfeeUVetFVKpWXL1/mPRGaJ1DDooxG44YNG2hearX6zp07vCdCswI7LELI5OSkXq+PjY0FALlcrtVqx8fHeQ+FAj8sqr+/XxAEiUQCAOvWrTMYDA6Hg/dQIS1IwqIaGxt37NhB74yFhYVXrlzhPVHoCqqwCCEOh8NgMKxZswYAJBKJIAiDg4O8hwpFwRYW9ejRI51OFxkZCQAxMTE6nW5qaor3UKElOMOiuru7y8vL6Z0xMzOztraW90QhJJjDourr6/Py8mheu3btunHjBu+JQkLwh0UIsdlsNTU1CoUCAMLDwysrK0dGRngPFeRCIizKYrFoNJrw8HAASExMFEXRZrPxHipohVBYVGdnZ1lZGb0zbt68+eTJk7wnCk4hFxZlNBozMjKcrwX19PTwnijYBMYb/ViYnp4+fPjwp59+Oj4+HhkZ2dLSkpuby3uo4BG6YVGDg4MHDhyoq6srKys7duwY73GCR6iHBQD9/f2pqanr1q3r7+/nPUvwCIy3JqOAg2EhJjAsxASGhZjAsBATGBZiAsNCTGBYiAkMCzGBYSEmMCzEBIaFmMCwEBMYFmICw0JMYFiICQwLMYFhISYwLMQEhoWYwLAQExgWYgLDQkxgWIgJDAsxgWEhJjAsxASGhZjAsBATGBZiAsNCTGBYiAkMCzGBYc1yOBy8RwgqoR5WV1fX/v37ExISLBZLRUXFyMgI74mCBedPbebHYrFUV1fLZDIAiImJmbuxgNVq5T1dwAvFsGZmZgwGw6pVqwAgLCxMEITh4WGz2bx37176hy0rK6uuro73mIEt5MK6cOFCfn4+DWjnzp3Xr1+f+1WTyZSTk0O/qlKp2tvbec0Z6EIorL6+PkEQaDSpqanP2t7XarWKohgfHw8AMplMo9GMjY35ftpAFxphjY//9MUXUVFR9OnUwYMHF90Xc3R0VKPRSKVSAEhOThZF0W63+2bY4BDsYTkcpLaWrF8/pFDEx8WVl5f39va6/93Xrl179dVX6UVOqVReunSJ3aRBJqjDunqVFBURAAJAioqGm5uXdhqj0Zienk7zUqvVt2/f9u6YQSlIwxoYIJWVJCyMAJCUFFJTQ2ZmlnO+yclJvV6/YsUKAJDL5Vqt9uHDh94aNigFXVjT00QUSVwcASAREUSjIQ8eeOvcAwMDgiBIJBIAWLt2bU1Nzczyeg1iwRWW0Ug2bpy996nV5M8/WfyQpqamF198kd4ZCwsLGxoaWPyUQBdEYR09OpvU1q3k/HmmP8rhcBgMhjVr1gCARCIpLy/v6+tj+hMDThCFNTlJlEoiisRXOz0/evRIp9M5VzF0Ot2iqxihI4jCIoQ8bcGTtf+uu/p+Bj/kZ2E5HOSHH0hBAYmOJnFxZNcucvr0vAO0WhITs/C79u0j+fk+m/Gpzp8/v3XrVppXSUnJ77//znce7vzsbTPvvguVlZCXBwYDfPstyGTwxhvw9de8x1pcSUlJW1ubwWBQKBQXLlxQKpWh/iYc3mXPcfw4ASCiOO9BQSAyGbl1a/aX/nrFcrJYLFqtNiIiAgASExP1ev309DTvoTjwp7B27CBpaQufevf1EZmMfPDB7C/9Piyqvb29tLSU/tHNzs4+e/Ys74l8zW9uhVNT0NwMe/dCePi8x1NTYds2uHx53oNjY/P+s9l8Oak7cnJyzp49azKZsrOzOzo6DAaDxWLhPZRP+U1Yw8MwMwPr1z/lS2lpMHd/+YkJSEyc95/R6LMxPaJSqdra2rZv337s2LGff/6Z9zg+Fb74Ib4kkSz+eFQUnDo176s6HTx4wHCqZYiIiMjNzW1qauI9iK/5TVirV4NUCr29T/lSby+sW/fvL6VS2Llz3gEKhd+GFbL85lYol0NhIfz6K9jt8x6/exdaW+HJm6JQoPCbsACgqgp6e+Gbb+Y9+MknAAAffshlIrRkfnMrBIB33oEzZ+Cjj6CtDcrKYHoa/vc/MJngq68gO5v3cMgz/hQWABw9CsXF8P33UFsLMhkUFMDp07BnD++xkMf8LCyJBPbvh/37n3mAXg96/cIHf/qJ6VBoCfzpORYKIhgWYgLDQkxgWIgJDAsxgWEhJjAsxASGhZjAsBATGBZiAsNCTGBYiAkMCzGBYSEmMCzEBIaFmMCwEBMYFmICw0JMYFiICQwLMYFhISYwLMQEhoWYwLAQExgWYgLDQkxgWGxZrdb29nYAaG1t5T2LT2FYDJ07d06pVDY1NSUnJ3/33Xd0C2reQ/kK749tDk4LPo67qqpKoVAAgFQqfe+990ZGRngPyByG5WXP2kDgn3/+0Wq1kZGRAJCQkKDX6x8/fsx7WIYwLK+ZmZmhW54AQFhYmCAI/70ymc1mtVpNr2SbNm2qra3lMqoPYFjeUV9f7/4mTSaTKScnhx6sUqna29t9NqfPYFjL1dPTU15eTitxf1s5q9UqimJCQgIAyGSyysrKe/fusR7VlzCspVv+Rpj379/XaDRSqRQAkpKSRFG02+2MpvUxDGspvLt1b0dHx54nH+C7ZcuW0wu2aAxMGJbHFmw2fuXKFXe+a9H97o1GY3p6Oj2tWq3+k81O6T6DYXmgv79fEASJRAIAa9euNRgMDrc3C37rrbcEQRgeHnZxzPT0tCiKK1asAICIiAiNRvPw4UNvDM4BhuWWyclJvV5Pf8vlcrlWq/Xot9xsNstkMrqyJYqi1Wp1cfDAwEBlZWVYWBjNt6amZtGrnR/CsBa34CZ1+/btJZzEbDbv3buXniQrK+uXX35xfXxzc/NLL71Ejy8oKGhoaFjS7NxgWK5cu3bt1Sf7QymVykuXLi3zhB6tYDkcjtra2vXr1zv/itDb27vMAXwGw3q60dFR50JAcnKyFxcC6ApWfHw8XcHSaDRjY2Mujl/+ogYXGNZCnv7GL42n4fb19QmC4OkyLEcY1jx0F2efvdji6a32/Pnzc184un79OtPxlgPDmuXpk2sv8ugvB/Sl7lWrVjlf6na9hMELhkUIISdOnHB/OYAFT5cz6GtB4eHhdObOzk6fjeomDItYLJa33347MjKS+59+Txdg//jjj9LS0qSkpOrqap8N6SYMi9y9excAUlJSeA8yy6OXjO7cuQMAaWlpvprOXfie91l0pdsfFBYWNjQ00Be5m5ubi4uLKyoqhoaGeM/lGX/5v4nmkkgkFRUVZrP5448/joiI+PHHH7Oysk6cOMF7Lg9gWP4rLi7u888/b29vLy8vn5iYyMzM5D2RB/xsT2h/8vjxY7PZLJfLs7KyOI6RmZlZW1vb2dm5ZcsWjmN4Cq9Yz9Td3f3888/v27eP9yAAAIFVFWBYiBEMCzGBYSEmMCzEBIaFmMCwEBMYFmICw0JMYFiICQwLMYFhISYwLMQEhoWYwLAQExgWYgLDQkxgWIgJDAsxgWEhJjAsxASGhZjAsBATGBZiAsNCTOC/hH6m9PT0M2fO0M+s4m5oaIhuhBEo8Ir1TLGxsbt373Z+ohAv9+/fr6qq2rBhw61bt/hO4hEMy3/ZbLZDhw5lZGQcOXLE4XA0NjbynsgDeCv0U+fOnauurqZXKZVKJYqi8wPiAwJesWYRQniPMKurq+vNN98sLS29detWVlZWXV3d3G0HAgbvjxTk7969eyUlJbGxsVqtdnx8nOMknu4bPTAwIAhCUlKSIAg+G9JNGBYhhBgMBvqRsqmpqcePH3d/Ty9v+e+HbA8NDbk4fmpq6uDBg7GxsQAQFRXV0dHhs1HdhGHNamxs3LFjB72Kb9++3c1dCL3i4sWL+fn59Ee/9tprbW1tro83Go0bN26kx/vtzoYY1r8W7JsqCMLg4CDTn3j37l3n528/99xzi37+9oK9WE+dOsV0vOXAsBaimyLRJzp0UyTXT3SWZmJiwrn1UnR0tE6nm5ycdHF8wO0ejWE9XXd3t3NvevopoN46M90sLi0tDZ5sFvfXX3+5ON5ms9XU1KxcuRIAwsPDA2W/ewzLlfr6+ry8PJrXrl27bty4scwTtrS0FBcX0xNu27btt99+c328yWTKzc2lx7/++us3b95c5gA+g2Etgl4wFAqF84IxMjKyhPP8/fffzg15U1JSFt2Qt6ury3nJ3LRpkxcvmb6BYbnFYrHM3RRJFEWbzeb+t5vNZro0EBkZeeDAAderZePj484nebGxsYye5LGGYXmgs7OzrKyMXkU2b9588uRJ979XpVKp1eqenh4Xx9DVrNWrV7u5muXPMCyPGY3GjIwM5zKS61acXP+ljxBy9erVoqIietqioqKrV696Y1huMKyloNv7xsXFwZPtfR88eLDks3m6mhUQMKylo8/H6doSfT7u6drSxMSEXq+nT7+io6O5v1jpRRjWcrW0tLz88sv0FvbCCy8suoLgZDQa6WoWvaW6Xs0KOBiWF8xd83SnktbW1qW1GEAwLK+hr9LI5XIX97W5d8+VK1f6/yszS4Zhedmznol79/m+/8OwmFiwdvDll186VyhUKpUfvn3K6zAsVux2u/O1oISEBADIyckxmUy85/IRCfGb93oHpbGxsc8++6ygoGB4ePj999+nLwqFAgwLMYH/SgcxgWEhJjAsxASGhZjAsBATGBZiAsNCTPwfouwUhhnyztwAAAAASUVORK5CYII=\" alt=\"Mol\"/></td>\n",
       "      <td>es1</td>\n",
       "    </tr>\n",
       "  </tbody>\n",
       "</table>"
      ],
      "text/plain": [
       "  Activity ID    MOL   Outcome                                                                                                                                                                                                                                                                                                                                                                                                                                                                                                                                                                                                                                                                                                                                                                                                                                                                                                                                                                                                                                                                                                                                                                                                                                                                                                                                                                                                                                                                                                                                                                                                                                                                                                                                                                                                                                                                                                                                                                                                                                                                                                                                                                                                                                                                                                                                                                                                                                                                                                                                                                                                                                                                                                                                                                                                                                                                                                                                                                                                                                                                                                                                                                                                                                                                                                                                                                                                                                                                                                                                                                                                                                                                                                                                                                                                                                                                                                                                                                                                                                                                                                                                                                                                                                                                                                                                                                                                                                                                                                                                                                                                                                                                                                                                                                                                                                                                                                                                                                                                                                                                                                                                                                                                                                                                                                              ROMol  Set\n",
       "0    -0.16     es1_1  Inactive  <img src=\"data:image/png;base64,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\" alt=\"Mol\"/>  es1"
      ]
     },
     "execution_count": 4,
     "metadata": {},
     "output_type": "execute_result"
    }
   ],
   "source": [
    "test = PandasTools.LoadSDF('test_set.sdf')\n",
    "test.head(1)"
   ]
  },
  {
   "cell_type": "markdown",
   "metadata": {},
   "source": [
    "### Calculate descriptors"
   ]
  },
  {
   "cell_type": "code",
   "execution_count": 5,
   "metadata": {},
   "outputs": [
    {
     "data": {
      "text/plain": [
       "(644, 2048)"
      ]
     },
     "execution_count": 5,
     "metadata": {},
     "output_type": "execute_result"
    }
   ],
   "source": [
    "# Training set\n",
    "def calcfp(mol,funcFPInfo=dict(radius=3, nBits=2048, useFeatures=False, useChirality = False)):\n",
    "    fp = GetMorganFingerprintAsBitVect(mol, **funcFPInfo)\n",
    "    fp = pd.Series(np.asarray(fp))\n",
    "    fp = fp.add_prefix('bit_')\n",
    "    return fp\n",
    "\n",
    "morgan_train = train.ROMol.apply(calcfp)\n",
    "morgan_train.shape"
   ]
  },
  {
   "cell_type": "code",
   "execution_count": 6,
   "metadata": {},
   "outputs": [
    {
     "data": {
      "text/plain": [
       "(449, 2048)"
      ]
     },
     "execution_count": 6,
     "metadata": {},
     "output_type": "execute_result"
    }
   ],
   "source": [
    "# Test set\n",
    "morgan_test = test.ROMol.apply(calcfp)\n",
    "morgan_test.shape"
   ]
  },
  {
   "cell_type": "markdown",
   "metadata": {},
   "source": [
    "### Prepare data for modeling\n"
   ]
  },
  {
   "cell_type": "code",
   "execution_count": 7,
   "metadata": {},
   "outputs": [],
   "source": [
    "y_train = train['Activity']\n",
    "X_train = morgan_train\n",
    "\n",
    "y_test = test['Activity']\n",
    "X_test = morgan_test"
   ]
  },
  {
   "cell_type": "markdown",
   "metadata": {},
   "source": [
    "### Estimate the ADT of the model"
   ]
  },
  {
   "cell_type": "code",
   "execution_count": 8,
   "metadata": {},
   "outputs": [],
   "source": [
    "distances = calc_training_dist_matrix(X_train)"
   ]
  },
  {
   "cell_type": "code",
   "execution_count": 9,
   "metadata": {
    "scrolled": true
   },
   "outputs": [
    {
     "name": "stdout",
     "output_type": "stream",
     "text": [
      "6.2278283338925755\n"
     ]
    }
   ],
   "source": [
    "D_cutoff = calc_d_cutoff(distances)\n",
    "print(D_cutoff)"
   ]
  },
  {
   "cell_type": "markdown",
   "metadata": {},
   "source": [
    "### Calculate if moleles in the test set are in the AD of the model"
   ]
  },
  {
   "cell_type": "code",
   "execution_count": 10,
   "metadata": {},
   "outputs": [],
   "source": [
    "test_set_distances = calc_test_distances(X_test,X_train)"
   ]
  },
  {
   "cell_type": "code",
   "execution_count": 11,
   "metadata": {},
   "outputs": [],
   "source": [
    "test_values = np.apply_along_axis(calc_d_cutoff,1,test_set_distances)"
   ]
  },
  {
   "cell_type": "code",
   "execution_count": 12,
   "metadata": {},
   "outputs": [
    {
     "data": {
      "text/plain": [
       "(449,)"
      ]
     },
     "execution_count": 12,
     "metadata": {},
     "output_type": "execute_result"
    }
   ],
   "source": [
    "test_values.shape"
   ]
  },
  {
   "cell_type": "code",
   "execution_count": 13,
   "metadata": {},
   "outputs": [],
   "source": [
    "v_test_AD = np.vectorize(test_AD)\n",
    "test_AD_results = v_test_AD(test_values,D_cutoff)"
   ]
  },
  {
   "cell_type": "code",
   "execution_count": 14,
   "metadata": {},
   "outputs": [],
   "source": [
    "test['Applicability_Domain'] = test_AD_results\n",
    "test['Applicability_Domain'] = test.Applicability_Domain.map(lambda x: \"Reliable\" if x else \"Unreliable\")"
   ]
  },
  {
   "cell_type": "code",
   "execution_count": 15,
   "metadata": {},
   "outputs": [
    {
     "data": {
      "text/html": [
       "<table border=\"1\" class=\"dataframe\">\n",
       "  <thead>\n",
       "    <tr style=\"text-align: right;\">\n",
       "      <th></th>\n",
       "      <th>Activity</th>\n",
       "      <th>ID</th>\n",
       "      <th>MOL</th>\n",
       "      <th>Outcome</th>\n",
       "      <th>ROMol</th>\n",
       "      <th>Set</th>\n",
       "      <th>Applicability_Domain</th>\n",
       "    </tr>\n",
       "  </thead>\n",
       "  <tbody>\n",
       "    <tr>\n",
       "      <th>0</th>\n",
       "      <td>-0.16</td>\n",
       "      <td></td>\n",
       "      <td>es1_1</td>\n",
       "      <td>Inactive</td>\n",
       "      <td><img src=\"data:image/png;base64,iVBORw0KGgoAAAANSUhEUgAAAMgAAADICAIAAAAiOjnJAAAABmJLR0QA/wD/AP+gvaeTAAAOh0lEQVR4nO3dW0yT5x/A8V8pBQrI0aroEBEkykHWCeLGDuKKjtjtxpHs5uViMWzZksJuVpNd9MqtWxZ9445kiUmzv9GQJUvK5qniacHISZwirMB0IIyD2KEISFv6/C8e7IBpaaFPnx5+n+zG8vLyy/z6vvVp7SMhhABC3hbGewAUnDAsxASGhZjAsBATGBZiAsNCTGBYiImACevixYtHjhyx2+28B0FukQTEAunMzIxSqbx582Z2dvbhw4d3797NeyK0iMC4Ykml0kOHDmVnZ3d0dOzZs6e0tLSjo4P3UMglEjisVqsoivHx8QAgk8k0Gs3Y2BjvodDTBVJY1OjoqEajkUqlAJCcnCyKot1u5z0UWijwwqJaW1tfeeUVetFVKpWXL1/mPRGaJ1DDooxG44YNG2hearX6zp07vCdCswI7LELI5OSkXq+PjY0FALlcrtVqx8fHeQ+FAj8sqr+/XxAEiUQCAOvWrTMYDA6Hg/dQIS1IwqIaGxt37NhB74yFhYVXrlzhPVHoCqqwCCEOh8NgMKxZswYAJBKJIAiDg4O8hwpFwRYW9ejRI51OFxkZCQAxMTE6nW5qaor3UKElOMOiuru7y8vL6Z0xMzOztraW90QhJJjDourr6/Py8mheu3btunHjBu+JQkLwh0UIsdlsNTU1CoUCAMLDwysrK0dGRngPFeRCIizKYrFoNJrw8HAASExMFEXRZrPxHipohVBYVGdnZ1lZGb0zbt68+eTJk7wnCk4hFxZlNBozMjKcrwX19PTwnijYBMYb/ViYnp4+fPjwp59+Oj4+HhkZ2dLSkpuby3uo4BG6YVGDg4MHDhyoq6srKys7duwY73GCR6iHBQD9/f2pqanr1q3r7+/nPUvwCIy3JqOAg2EhJjAsxASGhZjAsBATGBZiAsNCTGBYiAkMCzGBYSEmMCzEBIaFmMCwEBMYFmICw0JMYFiICQwLMYFhISYwLMQEhoWYwLAQExgWYgLDQkxgWIgJDAsxgWEhJjAsxASGhZjAsBATGBZiAsNCTGBYiAkMCzGBYc1yOBy8RwgqoR5WV1fX/v37ExISLBZLRUXFyMgI74mCBedPbebHYrFUV1fLZDIAiImJmbuxgNVq5T1dwAvFsGZmZgwGw6pVqwAgLCxMEITh4WGz2bx37176hy0rK6uuro73mIEt5MK6cOFCfn4+DWjnzp3Xr1+f+1WTyZSTk0O/qlKp2tvbec0Z6EIorL6+PkEQaDSpqanP2t7XarWKohgfHw8AMplMo9GMjY35ftpAFxphjY//9MUXUVFR9OnUwYMHF90Xc3R0VKPRSKVSAEhOThZF0W63+2bY4BDsYTkcpLaWrF8/pFDEx8WVl5f39va6/93Xrl179dVX6UVOqVReunSJ3aRBJqjDunqVFBURAAJAioqGm5uXdhqj0Zienk7zUqvVt2/f9u6YQSlIwxoYIJWVJCyMAJCUFFJTQ2ZmlnO+yclJvV6/YsUKAJDL5Vqt9uHDh94aNigFXVjT00QUSVwcASAREUSjIQ8eeOvcAwMDgiBIJBIAWLt2bU1Nzczyeg1iwRWW0Ug2bpy996nV5M8/WfyQpqamF198kd4ZCwsLGxoaWPyUQBdEYR09OpvU1q3k/HmmP8rhcBgMhjVr1gCARCIpLy/v6+tj+hMDThCFNTlJlEoiisRXOz0/evRIp9M5VzF0Ot2iqxihI4jCIoQ8bcGTtf+uu/p+Bj/kZ2E5HOSHH0hBAYmOJnFxZNcucvr0vAO0WhITs/C79u0j+fk+m/Gpzp8/v3XrVppXSUnJ77//znce7vzsbTPvvguVlZCXBwYDfPstyGTwxhvw9de8x1pcSUlJW1ubwWBQKBQXLlxQKpWh/iYc3mXPcfw4ASCiOO9BQSAyGbl1a/aX/nrFcrJYLFqtNiIiAgASExP1ev309DTvoTjwp7B27CBpaQufevf1EZmMfPDB7C/9Piyqvb29tLSU/tHNzs4+e/Ys74l8zW9uhVNT0NwMe/dCePi8x1NTYds2uHx53oNjY/P+s9l8Oak7cnJyzp49azKZsrOzOzo6DAaDxWLhPZRP+U1Yw8MwMwPr1z/lS2lpMHd/+YkJSEyc95/R6LMxPaJSqdra2rZv337s2LGff/6Z9zg+Fb74Ib4kkSz+eFQUnDo176s6HTx4wHCqZYiIiMjNzW1qauI9iK/5TVirV4NUCr29T/lSby+sW/fvL6VS2Llz3gEKhd+GFbL85lYol0NhIfz6K9jt8x6/exdaW+HJm6JQoPCbsACgqgp6e+Gbb+Y9+MknAAAffshlIrRkfnMrBIB33oEzZ+Cjj6CtDcrKYHoa/vc/MJngq68gO5v3cMgz/hQWABw9CsXF8P33UFsLMhkUFMDp07BnD++xkMf8LCyJBPbvh/37n3mAXg96/cIHf/qJ6VBoCfzpORYKIhgWYgLDQkxgWIgJDAsxgWEhJjAsxASGhZjAsBATGBZiAsNCTGBYiAkMCzGBYSEmMCzEBIaFmMCwEBMYFmICw0JMYFiICQwLMYFhISYwLMQEhoWYwLAQExgWYgLDQkxgWGxZrdb29nYAaG1t5T2LT2FYDJ07d06pVDY1NSUnJ3/33Xd0C2reQ/kK749tDk4LPo67qqpKoVAAgFQqfe+990ZGRngPyByG5WXP2kDgn3/+0Wq1kZGRAJCQkKDX6x8/fsx7WIYwLK+ZmZmhW54AQFhYmCAI/70ymc1mtVpNr2SbNm2qra3lMqoPYFjeUV9f7/4mTSaTKScnhx6sUqna29t9NqfPYFjL1dPTU15eTitxf1s5q9UqimJCQgIAyGSyysrKe/fusR7VlzCspVv+Rpj379/XaDRSqRQAkpKSRFG02+2MpvUxDGspvLt1b0dHx54nH+C7ZcuW0wu2aAxMGJbHFmw2fuXKFXe+a9H97o1GY3p6Oj2tWq3+k81O6T6DYXmgv79fEASJRAIAa9euNRgMDrc3C37rrbcEQRgeHnZxzPT0tCiKK1asAICIiAiNRvPw4UNvDM4BhuWWyclJvV5Pf8vlcrlWq/Xot9xsNstkMrqyJYqi1Wp1cfDAwEBlZWVYWBjNt6amZtGrnR/CsBa34CZ1+/btJZzEbDbv3buXniQrK+uXX35xfXxzc/NLL71Ejy8oKGhoaFjS7NxgWK5cu3bt1Sf7QymVykuXLi3zhB6tYDkcjtra2vXr1zv/itDb27vMAXwGw3q60dFR50JAcnKyFxcC6ApWfHw8XcHSaDRjY2Mujl/+ogYXGNZCnv7GL42n4fb19QmC4OkyLEcY1jx0F2efvdji6a32/Pnzc184un79OtPxlgPDmuXpk2sv8ugvB/Sl7lWrVjlf6na9hMELhkUIISdOnHB/OYAFT5cz6GtB4eHhdObOzk6fjeomDItYLJa33347MjKS+59+Txdg//jjj9LS0qSkpOrqap8N6SYMi9y9excAUlJSeA8yy6OXjO7cuQMAaWlpvprOXfie91l0pdsfFBYWNjQ00Be5m5ubi4uLKyoqhoaGeM/lGX/5v4nmkkgkFRUVZrP5448/joiI+PHHH7Oysk6cOMF7Lg9gWP4rLi7u888/b29vLy8vn5iYyMzM5D2RB/xsT2h/8vjxY7PZLJfLs7KyOI6RmZlZW1vb2dm5ZcsWjmN4Cq9Yz9Td3f3888/v27eP9yAAAIFVFWBYiBEMCzGBYSEmMCzEBIaFmMCwEBMYFmICw0JMYFiICQwLMYFhISYwLMQEhoWYwLAQExgWYgLDQkxgWIgJDAsxgWEhJjAsxASGhZjAsBATGBZiAsNCTOC/hH6m9PT0M2fO0M+s4m5oaIhuhBEo8Ir1TLGxsbt373Z+ohAv9+/fr6qq2rBhw61bt/hO4hEMy3/ZbLZDhw5lZGQcOXLE4XA0NjbynsgDeCv0U+fOnauurqZXKZVKJYqi8wPiAwJesWYRQniPMKurq+vNN98sLS29detWVlZWXV3d3G0HAgbvjxTk7969eyUlJbGxsVqtdnx8nOMknu4bPTAwIAhCUlKSIAg+G9JNGBYhhBgMBvqRsqmpqcePH3d/Ty9v+e+HbA8NDbk4fmpq6uDBg7GxsQAQFRXV0dHhs1HdhGHNamxs3LFjB72Kb9++3c1dCL3i4sWL+fn59Ee/9tprbW1tro83Go0bN26kx/vtzoYY1r8W7JsqCMLg4CDTn3j37l3n528/99xzi37+9oK9WE+dOsV0vOXAsBaimyLRJzp0UyTXT3SWZmJiwrn1UnR0tE6nm5ycdHF8wO0ejWE9XXd3t3NvevopoN46M90sLi0tDZ5sFvfXX3+5ON5ms9XU1KxcuRIAwsPDA2W/ewzLlfr6+ry8PJrXrl27bty4scwTtrS0FBcX0xNu27btt99+c328yWTKzc2lx7/++us3b95c5gA+g2Etgl4wFAqF84IxMjKyhPP8/fffzg15U1JSFt2Qt6ury3nJ3LRpkxcvmb6BYbnFYrHM3RRJFEWbzeb+t5vNZro0EBkZeeDAAderZePj484nebGxsYye5LGGYXmgs7OzrKyMXkU2b9588uRJ979XpVKp1eqenh4Xx9DVrNWrV7u5muXPMCyPGY3GjIwM5zKS61acXP+ljxBy9erVoqIietqioqKrV696Y1huMKyloNv7xsXFwZPtfR88eLDks3m6mhUQMKylo8/H6doSfT7u6drSxMSEXq+nT7+io6O5v1jpRRjWcrW0tLz88sv0FvbCCy8suoLgZDQa6WoWvaW6Xs0KOBiWF8xd83SnktbW1qW1GEAwLK+hr9LI5XIX97W5d8+VK1f6/yszS4Zhedmznol79/m+/8OwmFiwdvDll186VyhUKpUfvn3K6zAsVux2u/O1oISEBADIyckxmUy85/IRCfGb93oHpbGxsc8++6ygoGB4ePj999+nLwqFAgwLMYH/SgcxgWEhJjAsxASGhZjAsBATGBZiAsNCTPwfouwUhhnyztwAAAAASUVORK5CYII=\" alt=\"Mol\"/></td>\n",
       "      <td>es1</td>\n",
       "      <td>Unreliable</td>\n",
       "    </tr>\n",
       "  </tbody>\n",
       "</table>"
      ],
      "text/plain": [
       "  Activity ID    MOL   Outcome                                                                                                                                                                                                                                                                                                                                                                                                                                                                                                                                                                                                                                                                                                                                                                                                                                                                                                                                                                                                                                                                                                                                                                                                                                                                                                                                                                                                                                                                                                                                                                                                                                                                                                                                                                                                                                                                                                                                                                                                                                                                                                                                                                                                                                                                                                                                                                                                                                                                                                                                                                                                                                                                                                                                                                                                                                                                                                                                                                                                                                                                                                                                                                                                                                                                                                                                                                                                                                                                                                                                                                                                                                                                                                                                                                                                                                                                                                                                                                                                                                                                                                                                                                                                                                                                                                                                                                                                                                                                                                                                                                                                                                                                                                                                                                                                                                                                                                                                                                                                                                                                                                                                                                                                                                                                                                              ROMol  Set Applicability_Domain\n",
       "0    -0.16     es1_1  Inactive  <img src=\"data:image/png;base64,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\" alt=\"Mol\"/>  es1           Unreliable"
      ]
     },
     "execution_count": 15,
     "metadata": {},
     "output_type": "execute_result"
    }
   ],
   "source": [
    "test.head(1)"
   ]
  },
  {
   "cell_type": "code",
   "execution_count": 16,
   "metadata": {},
   "outputs": [
    {
     "name": "stdout",
     "output_type": "stream",
     "text": [
      "0.44766146993318484\n"
     ]
    }
   ],
   "source": [
    "coverage = percent_reliable(test)\n",
    "print(coverage)"
   ]
  },
  {
   "cell_type": "code",
   "execution_count": null,
   "metadata": {},
   "outputs": [],
   "source": []
  }
 ],
 "metadata": {
  "kernelspec": {
   "display_name": "Python 3",
   "language": "python",
   "name": "python3"
  },
  "language_info": {
   "codemirror_mode": {
    "name": "ipython",
    "version": 3
   },
   "file_extension": ".py",
   "mimetype": "text/x-python",
   "name": "python",
   "nbconvert_exporter": "python",
   "pygments_lexer": "ipython3",
   "version": "3.10.10"
  }
 },
 "nbformat": 4,
 "nbformat_minor": 2
}
